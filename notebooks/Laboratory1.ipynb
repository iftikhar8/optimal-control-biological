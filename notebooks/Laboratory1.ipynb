{
 "metadata": {
  "language_info": {
   "codemirror_mode": {
    "name": "ipython",
    "version": 3
   },
   "file_extension": ".py",
   "mimetype": "text/x-python",
   "name": "python",
   "nbconvert_exporter": "python",
   "pygments_lexer": "ipython3",
   "version": "3.7.3-final"
  },
  "orig_nbformat": 2,
  "kernelspec": {
   "name": "python37364bitbase6782713bed674ed7a26121bd52530782",
   "display_name": "Python 3.7.3 64-bit ('base')",
   "language": "python"
  }
 },
 "nbformat": 4,
 "nbformat_minor": 2,
 "cells": [
  {
   "source": [
    "# Laboratório 1: Exemplo Introdutório \n",
    "\n",
    "### Referente ao capítulo 5\n",
    "\n",
    "Nesse laboratório exploraremos o algoritmo codificado para resolver um problema simples de controle ótimo. \n",
    "\n",
    "Estamos interessados em \n",
    "$$\n",
    "\\max_u \\int_0^1 Ax(t) - Bu^2(t)dt, \n",
    "$$\n",
    "$$\n",
    "\\text{sujeito a   }x'(t) = -\\frac{1}{2}x^2(t) + Cu(t), x(0) = x_0 > -2, \n",
    "$$\n",
    "tal que $A \\ge 0, B > 0.$ "
   ],
   "cell_type": "markdown",
   "metadata": {}
  },
  {
   "source": [
    "## Condições Necessárias \n",
    "\n",
    "### Hamiltoniano\n",
    "\n",
    "$$\n",
    "H = Ax - Bu^2 + \\lambda\\left(-\\frac{1}{2}x^2 + Cu\\right)\n",
    "$$\n",
    "\n",
    "### Condição de otimalidade\n",
    "\n",
    "$$\n",
    "0 = H_u = -2Bu + C\\lambda \\implies u^*(t) = \\frac{C}{2B}\\lambda(t)\n",
    "$$\n",
    "\n",
    "### Equação adjunta \n",
    "\n",
    "$$\n",
    "\\lambda '(t) = - H_x = -A + x(t)\\lambda(t) \n",
    "$$\n",
    "\n",
    "### Condição de transversalidade \n",
    "\n",
    "$$\n",
    "\\lambda(1) = 0\n",
    "$$\n",
    "\n",
    "Observe que formamos um sistema não linear de equações diferenciais, que tornam a solução analítica muito mais complexa. Por isso, vamos resolver esse problema de forma iterativa. \n",
    "\n",
    "### Importanto as bibliotecas"
   ],
   "cell_type": "markdown",
   "metadata": {}
  },
  {
   "cell_type": "code",
   "execution_count": 1,
   "metadata": {},
   "outputs": [],
   "source": [
    "import numpy as np "
   ]
  },
  {
   "source": [
    "### Descrição das equações diferenciais"
   ],
   "cell_type": "markdown",
   "metadata": {}
  },
  {
   "cell_type": "code",
   "execution_count": 2,
   "metadata": {},
   "outputs": [],
   "source": [
    "g = lambda t,x,u: -0.5*x**2 + C*u\n",
    "dadj = lambda t,x,u,lambda_: - A + x*lambda_\n",
    "update_u = lambda x,lambda_: 0.5*(C/B)*lambda_"
   ]
  },
  {
   "source": [
    "### Passo 2 \n",
    "\n",
    "Vamos escrever o código do passo 2. Nesse passo, queremos integrar a variável de estado, através do método de Runge-Kutta. Deveríamos obter a variável $u$, nos valores intermediários de Runge-Kutta, em $u_{i+h/2}$ ao invés de $u_i$. Mas não temos aproximação para esse vakir e, portanto aproximamos pela média dos pontos $u_i$ e $u_{i+1}$. "
   ],
   "cell_type": "markdown",
   "metadata": {}
  },
  {
   "cell_type": "code",
   "execution_count": 3,
   "metadata": {},
   "outputs": [],
   "source": [
    "def forward(g, t, x, u, h): \n",
    "    '''A função realiza o processo forward que integra a equação de x' = g\n",
    "    g: função (t,x,u) \n",
    "    u: controle do último passo. vetor de tamanho N + 1\n",
    "    x0: valor inicial do vetor de x. \n",
    "    h: passo a ser dado pelo método de Runge-Kutta \n",
    "    '''\n",
    "    for i in range(len(t)):\n",
    "        k1 = g(i,x[i],u[i])\n",
    "        k2 = g(i+h/2,x[i] + 0.5*h*k1, 0.5*(u[i] + u[i+1]))\n",
    "        k3 = g(i+h/2,x[i] + 0.5*h*k2, 0.5*(u[i] + u[i+1]))\n",
    "        k4 = g(i+h,x[i] + h*k3, u[i+1])\n",
    "        x[i+1] = x[i] + (h/6)*(k1 + 2*k2 + 2*k3 + k4)\n",
    "    return x "
   ]
  },
  {
   "source": [
    "### Passo 3 \n",
    "\n",
    "Queremos integrar a variável adjunta do fim ao início. Da mesma forma que não obtemos o valor de $x_{i+h/2}$, usamos um aproximação pelo valor médio de $x_i$ e $x_{i+1}$. "
   ],
   "cell_type": "markdown",
   "metadata": {}
  },
  {
   "cell_type": "code",
   "execution_count": 4,
   "metadata": {},
   "outputs": [],
   "source": [
    "def backward(dadj, t, x, u, lambda_, h): \n",
    "    '''A função realiza o processo forward que integra a equação de x' = g\n",
    "    g: função (t,x,u) \n",
    "    u: controle do último passo. vetor de tamanho N + 1\n",
    "    x0: valor inicial do vetor de x. \n",
    "    h: passo a ser dado pelo método de Runge-Kutta \n",
    "    '''\n",
    "    for i in range(len(t)-1,0,-1):\n",
    "        k1 = dadj(i,x[i],u[i],lambda_[i])\n",
    "        k2 = dadj(i-h/2,0.5*(x[i] + x[i-1]), 0.5*(u[i] + u[i-1]),lambda_[i] - 0.5*h*k1)\n",
    "        k3 = dadj(i-h/2,0.5*(x[i] + x[i-1]), 0.5*(u[i] + u[i-1]),lambda_[i] - 0.5*h*k2)\n",
    "        k3 = dadj(i-h,x[i-1], u[i-1], lambda_[i] - h*k3)\n",
    "        lambda_[i-1] = lambda_[i] - (h/6)*(k1 + 2*k2 + 2*k3 + k4)\n",
    "    return adj"
   ]
  },
  {
   "source": [
    "### Resolve controle ótimo \n",
    "\n",
    "Função que junta todos os passos em uma única função. Observe que o chute inicial de $\\vec{u}$ é um vetor aleatório próximo de $0$. Isso para evitar que ele seja $0$. A condição utilizada será a destacada no capítulo 5. "
   ],
   "cell_type": "markdown",
   "metadata": {}
  },
  {
   "cell_type": "code",
   "execution_count": 5,
   "metadata": {},
   "outputs": [],
   "source": [
    "def optimal_control(A,B,C,x0,h=1e-4,tol=1e-4): \n",
    "    '''Resolve o problema de controle ótimo, onde A, B, C e x0 são \n",
    "    os parâmetros do problema. \n",
    "    A >= 0, B > 0, x0 > -2. \n",
    "    h: passo no Runge-Kutta\n",
    "    tol: tolerância para o erro relativo. \n",
    "    '''\n",
    "    condition = -1 \n",
    "\n",
    "    N = 1/h \n",
    "    t = np.linspace(0,1,N+1)\n",
    "\n",
    "    u = np.random.normal(scale=0.01, size=N+1)\n",
    "    x = np.zeros(N+1)\n",
    "    lambda_ = np.zeros(N+1)\n",
    "\n",
    "    x[0] = x0\n",
    "\n",
    "    while condition < 0: \n",
    "\n",
    "        u_old = u\n",
    "        x_old = x\n",
    "        lambda_old = lambda_\n",
    "\n",
    "        x = forward(g,t,x,u,h)\n",
    "        lambda_ = backward(dadj,t,x,u,lambda_,h)\n",
    "\n",
    "        # Update u \n",
    "        u = 0.5*(update_u(x,lambda_) + u)\n",
    "\n",
    "        cond1 = tol*sum(abs(u)) - sum(abs(u_old - u))\n",
    "        cond2 = tol*sum(abs(x)) - sum(abs(x_old - x))\n",
    "        cond3 = tol*sum(abs(lambda_)) - sum(abs(lambda_old - lambda_))\n",
    "\n",
    "        condition = min(cond1, cond2, cond3) \n",
    "\n",
    "    return t,x,u,lambda_\n"
   ]
  },
  {
   "source": [
    "Note que fazemos uma combinação convexa para atualizar o vetor $u$. Tomamos a média porque ela em geral funciona bem. Diferentes técnicas podem ser necessárias como contraposição a esse método. "
   ],
   "cell_type": "markdown",
   "metadata": {}
  },
  {
   "cell_type": "code",
   "execution_count": null,
   "metadata": {},
   "outputs": [],
   "source": []
  }
 ]
}