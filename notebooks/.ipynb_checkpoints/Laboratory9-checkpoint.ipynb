{
 "cells": [
  {
   "cell_type": "markdown",
   "metadata": {},
   "source": [
    "# Laboratório 9: Populações de Urso\n",
    "\n",
    "### Referente ao capítulo 15 \n",
    "\n",
    "O cenário neste laboratório é motivado pelo *Great Smoky Mountain National Park*. É considerado a população de ursos em um parque genérico em áreas populadas por humanos, tal que essas regiões apresentem bordas compartilhadas. A emigração e imigração de ursos é baseada na conectividade entre caminhos. \n",
    "\n",
    "|Parâmetro|Significado|\n",
    "|---------|-----------|\n",
    "|$r$|taxa de crecimento de ursos|\n",
    "|$K$|capacidade de carga|\n",
    "|$m_p$|proporção da fronteira do parque conectada com a floresta|\n",
    "\n",
    "Seja $P(t), F(t)$ e $O(t)$ a densidade de ursos no parque, na floresta e nas regiões de fora. Os controles serão $u_p$ e $u_f$, que são as taxas de caça de ursos no parque e na floresta, respectivamente. \n",
    "\n",
    "Atualmente a caça em parques não é legalizada, mas o modelo considera que ocorrem também, além da caça na floresta. Queremos minimizar o número de ursos nas áreas populadas por humanos. Assim, o problema pode ser descrito pelo seguinte modelo. \n",
    "\n",
    "\n",
    "$$ \\min_{u_p, u_f} \\int_0^T O(t) + c_pu_p(t)^2 + c_fu_f(t)^2 dt $$\n",
    "\n",
    "$$\\text{sujeito a  }P'(t) = rP(t) - \\frac{r}{K}P(t)^2 + \\frac{m_fr}{K}\\left(1 - \\frac{P(t)}{K}\\right)F(t)^2 - u_p(t)P(t),$$\n",
    "$$F'(t) = rF(t) - \\frac{r}{K}F(t)^2 + \\frac{m_pr}{K}\\left(1 - \\frac{F(t)}{K}\\right)P(t)^2 - u_f(t)F(t),$$\n",
    "$$O'(t) = r(1 - m_p)\\frac{P(t)^2}{K} + r(1 - m_f)\\frac{F(t)^2}{K} + \\frac{m_fr}{K^2}P(t)F(t)^2 + \\frac{m_pr}{K^2}P(t)^2F(t),$$\n",
    "\n",
    "$$P(0) = P_0 \\geq 0, F(0) = F_0 \\geq 0, O(0) = O_0 \\geq 0, $$\n",
    "$$0 \\leq u_p(t) \\leq 1, 0 \\leq u_f(t) \\leq 1 $$"
   ]
  },
  {
   "cell_type": "markdown",
   "metadata": {},
   "source": [
    "O termo $\\frac{r}{K}P(t)^2$ representa a emigração densidade-depentente. O terceiro termo na primeira equação é a imigração da floresta densidade-dependente e $u_pP$ o nível de caça. O primeiro termo da terceira equação é a emigração do parque para regiões fora do parque, enquanto o segundo é a emigração da floresta para outras regiões. \n",
    "\n",
    "### Importanto as bibliotecas"
   ]
  },
  {
   "cell_type": "code",
   "execution_count": 1,
   "metadata": {},
   "outputs": [],
   "source": [
    "import numpy as np\n",
    "import matplotlib.pyplot as plt\n",
    "from scipy.integrate import solve_ivp\n",
    "import sympy as sp\n",
    "\n",
    "import sys  \n",
    "sys.path.insert(0, '../pyscripts/')\n",
    "\n",
    "from optimal_control_class import OptimalControl"
   ]
  },
  {
   "cell_type": "markdown",
   "metadata": {},
   "source": [
    "## Condições Necessárias\n",
    "\n",
    "Vamos utilizar a bilbioteca `sympy` para nos ajudar a escrever as condições necessárias. "
   ]
  },
  {
   "cell_type": "code",
   "execution_count": 2,
   "metadata": {},
   "outputs": [],
   "source": [
    "P, F, O, uf, up, l1, l2, l3, cp, cf, r, K, mf, mp, t = sp.symbols('P F O uf up l1 l2 l3 cp cf r K mf mp t')"
   ]
  },
  {
   "cell_type": "markdown",
   "metadata": {},
   "source": [
    "### O Hamiltoniano\n",
    "\n",
    "\\begin{multline}\n",
    "H(t, \\vec{x}, \\vec{u}, \\vec{\\lambda}) = O(t) + c_pu_p(t)^2 + c_fu_f(t)^2 +  \\\\ \n",
    "\\lambda_1(t)\\left[rP(t) - \\frac{r}{K}P(t)^2 + \\frac{m_fr}{K}\\left(1 - \\frac{P(t)}{K}\\right)F(t)^2 - u_p(t)P(t)\\right] + \\\\ \n",
    "\\lambda_2(t)\\left[rF(t) - \\frac{r}{K}F(t)^2 + \\frac{m_pr}{K}\\left(1 - \\frac{F(t)}{K}\\right)P(t)^2 - u_f(t)F(t)\\right] + \\\\ \n",
    "\\lambda_3(t)\\left[r(1 - m_p)\\frac{P(t)^2}{K} + r(1 - m_f)\\frac{F(t)^2}{K} + \\frac{m_fr}{K^2}P(t)F(t)^2 + \\frac{m_pr}{K^2}P(t)^2F(t)\\right]\n",
    "\\end{multline}"
   ]
  },
  {
   "cell_type": "code",
   "execution_count": 7,
   "metadata": {},
   "outputs": [],
   "source": [
    "H =  O + cp*up**2 + cf*uf**2 + l1*(r*P - r*P**2/K + mf*(r/K)*(1 - P/K)*F**2 - up*P) + \\\n",
    "                               l2*(r*F - r*F**2/K + mp*(r/K)*(1 - F/K)*P**2 - uf*F) + \\\n",
    "                               l3*(r*(1 - mp)*P**2/K + r*(1 - mf)*F**2/K + mf*r*P*F**2/K**2 + mp*r*P**2*F/K**2)"
   ]
  },
  {
   "cell_type": "markdown",
   "metadata": {},
   "source": [
    "### Condições do Estado "
   ]
  },
  {
   "cell_type": "code",
   "execution_count": 8,
   "metadata": {},
   "outputs": [
    {
     "name": "stdout",
     "output_type": "stream",
     "text": [
      "F**2*mf*r*(1 - P/K)/K + P*r - P*up - P**2*r/K \n",
      "\n",
      "-F**2*r/K + F*r - F*uf + P**2*mp*r*(-F/K + 1)/K \n",
      "\n",
      "F**2*r*(1 - mf)/K + F**2*P*mf*r/K**2 + F*P**2*mp*r/K**2 + P**2*r*(1 - mp)/K\n"
     ]
    }
   ],
   "source": [
    "print(sp.diff(H,l1), '\\n')\n",
    "print(sp.diff(H,l2), '\\n')\n",
    "print(sp.diff(H,l3))"
   ]
  },
  {
   "cell_type": "markdown",
   "metadata": {},
   "source": [
    "### Equações Adjuntas"
   ]
  },
  {
   "cell_type": "code",
   "execution_count": 9,
   "metadata": {},
   "outputs": [
    {
     "name": "stdout",
     "output_type": "stream",
     "text": [
      "-l1*(-F**2*mf*r/K**2 + r - up - 2*P*r/K) - l3*(F**2*mf*r/K**2 + 2*F*P*mp*r/K**2 + 2*P*r*(1 - mp)/K) - 2*P*l2*mp*r*(-F/K + 1)/K \n",
      "\n",
      "-2*F*l1*mf*r*(1 - P/K)/K - l2*(-2*F*r/K + r - uf - P**2*mp*r/K**2) - l3*(2*F*r*(1 - mf)/K + 2*F*P*mf*r/K**2 + P**2*mp*r/K**2) \n",
      "\n",
      "-1\n"
     ]
    }
   ],
   "source": [
    "dl1 = (-1)*sp.diff(H,P)\n",
    "dl2 = (-1)*sp.diff(H,F)\n",
    "dl3 = (-1)*sp.diff(H,O)\n",
    "print(dl1, '\\n')\n",
    "print(dl2, '\\n')\n",
    "print(dl3)"
   ]
  },
  {
   "cell_type": "markdown",
   "metadata": {},
   "source": [
    "### Condições de Otimalidade"
   ]
  },
  {
   "cell_type": "code",
   "execution_count": 11,
   "metadata": {},
   "outputs": [
    {
     "name": "stdout",
     "output_type": "stream",
     "text": [
      "-P*l1 + 2*cp*up \n",
      "\n",
      "-F*l2 + 2*cf*uf\n"
     ]
    }
   ],
   "source": [
    "du1 = sp.diff(H,up)\n",
    "du2 = sp.diff(H,uf)\n",
    "print(du1, '\\n')\n",
    "print(du2)"
   ]
  },
  {
   "cell_type": "markdown",
   "metadata": {},
   "source": [
    "$$ \\frac{\\partial H}{\\partial u_p} > 0 \\implies u_p^*(t) = 0 \\implies \\frac{P\\lambda_1}{2c_p} < 0$$\n",
    "$$ \\frac{\\partial H}{\\partial u_p} < 0 \\implies u_p^*(t) = 1 \\implies \\frac{P\\lambda_1}{2c_p} > 1$$\n",
    "$$ \\frac{\\partial H}{\\partial u_p} = 0 \\implies 0 \\leq u_p^*(t) = \\frac{P\\lambda_1}{2c_p} \\leq 1$$\n",
    "\n",
    "$$u_p^* = \\max(0, \\min(1, \\frac{P\\lambda_1}{2c_p}))$$\n",
    "\n",
    "$$ \\frac{\\partial H}{\\partial u_f} > 0 \\implies u_f^*(t) = 0 \\implies \\frac{F\\lambda_2}{2c_f} < 0$$\n",
    "$$ \\frac{\\partial H}{\\partial u_f} < 0 \\implies u_f^*(t) = 1 \\implies \\frac{F\\lambda_2}{2c_f} > 1$$\n",
    "$$ \\frac{\\partial H}{\\partial u_f} = 0 \\implies 0 \\leq u_f^*(t) = \\frac{F\\lambda_2}{2c_f} \\leq 1$$\n",
    "\n",
    "$$u_f^* = \\max(0, \\min(1, \\frac{F\\lambda_2}{2c_f}))$$"
   ]
  },
  {
   "cell_type": "markdown",
   "metadata": {},
   "source": [
    "## Aplicando a classe ao exemplo \n",
    "\n",
    "Nesse laboratório, o leitor é convidado a escrever as equações e realizar os testes por conta. Você deve mudar a célula de Raw para Code e escrever as funções como fizemos até então. "
   ]
  },
  {
   "cell_type": "raw",
   "metadata": {},
   "source": [
    "parameters = {'r': None, 'K': None, 'mp': None, 'mf': None, 'cp': None, 'cf': None}\n",
    "\n",
    "# Lembre: P: x[0], F: x[1], O: x[2], up: u[0], uf: u[1]\n",
    "diff_state = lambda t, x, u, par: np.array([\n",
    "    x[1]**2*par['mf']*par['r']*(1 - x[0]/par['K'])/par['K'] + x[0]*par['r'] - \\\n",
    "        x[0]*u[0] - x[0]**2*par['r']/par['K'], \n",
    "    -x[1]**2*par['r']/par['K'] + x[1]*par['r'] - x[1]*u[1] + \\\n",
    "        x[0]**2*par['mp']*par['r']*(-x[1]/par['K'] + 1)/par['K'], \n",
    "    x[1]**2*par['r']*(1 - par['mf'])/par['K'] + x[1]**2*x[0]*par['mf']*par['r']/par['K']**2 + \\\n",
    "        x[1]*x[0]**2*par['mp']*par['r']/par['K']**2 + x[0]**2*par['r']*(1 - par['mp'])/par['K']\n",
    "])\n",
    "\n",
    "diff_lambda = lambda t, x, u, l, par: np.array([\n",
    "    -l[0]*(-x[1]**2*par['mf']*par['r']/par['K']**2 + par['r'] - u[0] - 2*x[0]*par['r']/par['K']) - \\\n",
    "        l[2]*(x[1]**2*par['mf']*par['r']/par['K']**2 + 2*x[1]*x[0]*par['mp']*par['r']/par['K']**2 + \\\n",
    "        2*x[0]*par['r']*(1 - par['mp'])/par['K'])-2*x[0]*l[1]*par['mp']*par['r']*(1-x[1]/par['K'])/par['K'], \n",
    "    -2*x[1]*l[0]*par['mf']*par['r']*(1 - x[0]/par['K'])/par['K'] - \\\n",
    "        l[1]*(-2*x[1]*par['r']/par['K'] + par['r'] - u[1] - x[0]**2*par['mp']*par['r']/par['K']**2) - \\\n",
    "        l[2]*(2*x[1]*par['r']*(1 - par['mf'])/par['K'] + 2*x[0]*x[1]*par['mf']*par['r']/par['K']**2 + \\\n",
    "        x[0]**2*par['mp']*par['r']/par['K']**2), \n",
    "    -1\n",
    "])\n",
    "\n",
    "update_u = lambda t, x, lambda_, par: np.array([\n",
    "    np.maximum(0.0, np.minimum(1.0, 0.5*x[0]*lambda_[0]/par['cp'])),\n",
    "    np.maximum(0.0, np.minimum(1.0, 0.5*x[1]*lambda_[1]/par['cf']))\n",
    "])"
   ]
  },
  {
   "cell_type": "raw",
   "metadata": {},
   "source": [
    "problem = OptimalControl(diff_state, diff_lambda, update_u, \n",
    "                         n_controls = 2, n_states = 3, \n",
    "                         bounds = [(0,1), (0,1)])"
   ]
  },
  {
   "cell_type": "raw",
   "metadata": {},
   "source": [
    "x0 = np.array([0.4, 0.2, 0])\n",
    "T = 25\n",
    "parameters['r'] = 0.1\n",
    "parameters['K'] = 0.75\n",
    "parameters['mp'] = 0.5\n",
    "parameters['mf'] = 0.5\n",
    "parameters['cp'] = 10000\n",
    "parameters['cf'] = 10"
   ]
  },
  {
   "cell_type": "raw",
   "metadata": {},
   "source": [
    "t,x,u,lambda_ = problem.solve(x0, T, parameters)"
   ]
  }
 ],
 "metadata": {
  "kernelspec": {
   "display_name": "Python 3.7.3 64-bit ('base')",
   "language": "python",
   "name": "python37364bitbase6782713bed674ed7a26121bd52530782"
  },
  "language_info": {
   "codemirror_mode": {
    "name": "ipython",
    "version": 3
   },
   "file_extension": ".py",
   "mimetype": "text/x-python",
   "name": "python",
   "nbconvert_exporter": "python",
   "pygments_lexer": "ipython3",
   "version": "3.7.3"
  }
 },
 "nbformat": 4,
 "nbformat_minor": 4
}
