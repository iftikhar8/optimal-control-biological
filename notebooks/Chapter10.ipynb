{
 "cells": [
  {
   "cell_type": "markdown",
   "metadata": {},
   "source": [
    "# Laboratory 5"
   ]
  },
  {
   "cell_type": "markdown",
   "metadata": {},
   "source": [
    "### Cancer Growing and Chemical Treatment\n",
    "\n",
    "Queremos minimizar a densidade do tumor e os efeitos colaterais das drogas. É assumido que o tumor tenha um crescimento Gompertzian. O modelo utilizado no laboratório é Skiper's log-kill hipótese, que afirma que a morte de células devido às drofas é proporcional a população de tumor. \n",
    "\n",
    "Considere $N(t)$ a densidade normalizada do tumor no tempo $t$. Assim:\n",
    "$$N'(t) = rN(t)\\ln(\\frac{1}{N(t)}) - u(t)\\delta N(t)$$\n",
    "$r$ é a taxa de crescimento do tumor, $\\delta$ a magnitude da dose e $u(t)$ descreve a ação da droga. É a força do efeito da droga. Escolhemos o funcional para ser \n",
    "$$\\min_u \\int_0^T aN(t)^2 + u(t)^2 dt$$\n",
    "\n",
    "Além disso, $u(t) \\geq 0$ e $N(0) = N_0$. "
   ]
  },
  {
   "cell_type": "markdown",
   "metadata": {},
   "source": [
    "### Condições Necessárias\n",
    "\n",
    "Sabemos que a função $g$ é côncava em $N$ e $u$ e $f$ é convexa nessas variáveis, o que nos fornece informação sobre a existência da solução. Suponha a existência da solução $u^*(t)$. Assim:\n",
    "$$ H(t,x,u,\\lambda) := aN^2 + u^2 + \\lambda[rN\\ln(\\frac{1}{N}) - u\\delta N] $$"
   ]
  },
  {
   "cell_type": "markdown",
   "metadata": {},
   "source": [
    "$$ -\\frac{\\partial H}{\\partial N} =  - 2aN + \\lambda[- r\\ln(\\frac{1}{N}) + r + u\\delta] = \\lambda '(t), \\lambda(T) = 0 \\\\ \n",
    "\\frac{\\partial H}{\\partial u} = 2u - \\lambda\\delta N $$"
   ]
  },
  {
   "cell_type": "markdown",
   "metadata": {},
   "source": [
    "Assim, averiguamos os limites:\n",
    "$\\frac{\\partial H}{\\partial u} > 0 \\implies u(t) = 0 \\implies 0 > \\lambda\\delta N \\\\\n",
    "\\frac{\\partial H}{\\partial u} = 0 \\implies 0 \\leq u^*(t) = \\frac{1}{2}\\lambda\\delta N$\n",
    "\n",
    "\n",
    "Assim $u^*(t) = \\max(0,\\frac{1}{2}\\lambda\\delta N)$"
   ]
  },
  {
   "cell_type": "code",
   "execution_count": 1,
   "metadata": {},
   "outputs": [],
   "source": [
    "import numpy as np\n",
    "import matplotlib.pyplot as plt"
   ]
  },
  {
   "cell_type": "code",
   "execution_count": 2,
   "metadata": {},
   "outputs": [],
   "source": [
    "class Cancer():\n",
    "    \n",
    "    def __init__(self,a,r,T,delta,x0):\n",
    "        self.a = a\n",
    "        self.r = r\n",
    "        self.T = T\n",
    "        self.delta = delta\n",
    "        self.x0 = x0\n",
    "        \n",
    "    def u(self,t,x,adj):\n",
    "        return max(0,1/2*adj*self.delta*x)\n",
    "    \n",
    "    def dx(self,t,x,adj):\n",
    "        return self.r*x*np.log(1/x) - self.u(t,x,adj)*self.delta*x\n",
    "    \n",
    "    def dadj(self,t,x,adj):\n",
    "        return -2*self.a*x + adj*(-self.r*np.log(1/x) + self.r + self.u(t,x,adj)*self.delta)\n",
    "    \n",
    "    def runge_kutta_state(self,t,x,adj,N,h):\n",
    "\n",
    "        for k in range(N):\n",
    "            k1 = self.dx(t[k],x[k],adj[k])\n",
    "            k2 = self.dx(t[k]+h/2,x[k] + h*k1/2,adj[k])\n",
    "            k3 = self.dx(t[k]+h/2,x[k]+h*k2/2,adj[k])\n",
    "            k4 = self.dx(t[k] + h, x[k] + h*k3, adj[k])\n",
    "            x[k+1] = x[k] + (h/6)*(k1 + 2*k2 + 2*k3 + k4)\n",
    "        return x\n",
    "\n",
    "    def runge_kutta_adj(self,t,x,adj,N,h):\n",
    "    \n",
    "        for k in range(N,0,-1):\n",
    "            k1 = self.dadj(t[k],x[k],adj[k])\n",
    "            k2 = self.dadj(t[k] - h/2,x[k],adj[k] + h*k1/2)\n",
    "            k3 = self.dadj(t[k] - h/2,x[k],adj[k]+h*k2/2)\n",
    "            k4 = self.dadj(t[k] - h, x[k],adj[k] + h*k3)\n",
    "            adj[k-1] = adj[k] - (h/6)*(k1 + 2*k2 + 2*k3 + k4)\n",
    "        return adj\n",
    "    \n",
    "    def solve(self):\n",
    "        #parameters\n",
    "        N = 100\n",
    "        h = 1/N\n",
    "        p = 0.1\n",
    "        test = -1\n",
    "        t = np.linspace(0,self.T,N + 1)\n",
    "        \n",
    "        #variables\n",
    "        x = np.zeros(N + 1)\n",
    "        adj = np.zeros(N + 1)\n",
    "        u = np.zeros(N + 1)\n",
    "        x[0] = self.x0\n",
    "        adj[-1] = 0\n",
    "\n",
    "        while test < 0:\n",
    "        \n",
    "            old_u = u.copy()\n",
    "            old_x = x.copy()\n",
    "            old_adj = adj.copy()\n",
    "        \n",
    "            x = self.runge_kutta_state(t,old_x,old_adj,N,h)\n",
    "\n",
    "            adj = self.runge_kutta_adj(t,x,old_adj,N,h)\n",
    "            \n",
    "            for i in range(len(u)): \n",
    "                u[i] = 0.5*(self.u(0,x[i],adj[i]) + old_u[i])\n",
    "\n",
    "            temp1 = p*sum(abs(u)) - sum(abs(old_u - u))\n",
    "            temp2 = p*sum(abs(x)) - sum(abs(old_x - x))\n",
    "            temp3 = p*sum(abs(adj)) - sum(abs(old_adj - adj))\n",
    "            test = min(temp1,temp2,temp3)\n",
    "        \n",
    "        return t,x,u,adj"
   ]
  },
  {
   "cell_type": "code",
   "execution_count": 3,
   "metadata": {},
   "outputs": [],
   "source": [
    "def plotting(t,x):\n",
    "    \"\"\" x is a dictionary with the name and a list with lists of the informations to plot\"\"\"\n",
    "    fig = plt.figure(figsize=(12,10))\n",
    "    for i in range(len(x.keys())):\n",
    "        plt.subplot(3,1,i+1)\n",
    "        for j in x[list(x.keys())[i]]:\n",
    "            plt.plot(t,j)\n",
    "        plt.title(list(x.keys())[i])"
   ]
  },
  {
   "cell_type": "markdown",
   "metadata": {},
   "source": [
    "### Patâmetros para Teste\n"
   ]
  },
  {
   "cell_type": "code",
   "execution_count": 4,
   "metadata": {},
   "outputs": [
    {
     "data": {
      "image/png": "[encoded data removed]",
      "text/plain": [
       "<Figure size 864x720 with 2 Axes>"
      ]
     },
     "metadata": {
      "needs_background": "light"
     },
     "output_type": "display_data"
    }
   ],
   "source": [
    "a,r,T,delta,x0 = 1,0.3,40,0.45,0.8\n",
    "\n",
    "problem = Cancer(a,r,T,delta,x0)\n",
    "t,x,u,_ = problem.solve()\n",
    "\n",
    "plotting(t,{'State': [x], 'Control':[u]})"
   ]
  },
  {
   "cell_type": "code",
   "execution_count": null,
   "metadata": {},
   "outputs": [],
   "source": []
  }
 ],
 "metadata": {
  "kernelspec": {
   "display_name": "Python 3",
   "language": "python",
   "name": "python3"
  },
  "language_info": {
   "codemirror_mode": {
    "name": "ipython",
    "version": 3
   },
   "file_extension": ".py",
   "mimetype": "text/x-python",
   "name": "python",
   "nbconvert_exporter": "python",
   "pygments_lexer": "ipython3",
   "version": "3.7.3"
  }
 },
 "nbformat": 4,
 "nbformat_minor": 2
}
