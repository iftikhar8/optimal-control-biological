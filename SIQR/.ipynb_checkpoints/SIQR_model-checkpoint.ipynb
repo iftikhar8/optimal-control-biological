{
 "cells": [
  {
   "cell_type": "markdown",
   "metadata": {},
   "source": [
    "# Modelo SIQR"
   ]
  },
  {
   "cell_type": "markdown",
   "metadata": {},
   "source": [
    "Uma epidimeia é um surto de uma doença em um curto período de tempo. Dentre os modelos que modelam esse fenômeno, os modelos compartimentais demonstraram bons resultados. Esses modelos tem a característica de separar a população em grupos que sejam, de certa forma, homogêneos. O primeiro desses modelos é conhecido por SIR, porque separa a população em três grupos: suscetíveis (S), infectados (I) e recuperados (R). Uma das ações que pode ser tomada frente a uma epidemia em que haja transmissão entre pessoas é o isolamento ou quarentena dos infectados. Essa foi uma das primeiras ações de controle do avanço da doença. Assim adicionamos o compartimento $Q$ que indica a subpopulação infectada e em quarentena. Por esse motivo chamamos esse modelo de SIQR. \n",
    "\n",
    "Assumiremos que novas infecções são geradas apenas pelo contato de infectados e suscetíveis, de forma que esse contato não precisa ser direto. Seja $\\beta$ o número médio de contatos suficientes para transmissão. Então, aplicando a lei das massas, $\\beta\\frac{I}{S + I + R}S$ indica o número de novos casos e é chamada de incidência padrão. Supomos também que não existem contatos entre quarentenados e suscetíveis. Seja $A$ a taxa de nascimento e $d$ a taxa de mortalidade natural. Além disso, seja $\\gamma^{-1}$ o tempo para recuperação de um indivíduo infectado e $\\epsilon^{-1}$ o tempo de recuperação quando em quarentena. Também sejam $\\alpha_1$ e $\\alpha_2$ as taxas de mortalidade de infectados não quarentenados e quarentenados, respectivamente. \n",
    "\n",
    "Por fim, o governo tem o controle $u$ que indica a porcentagem de infectados que são colocados em quarentena. Queremos minimizar o número de infectados ao longo de um período fixo e o número de pessoas colocadas em quarentena. "
   ]
  },
  {
   "cell_type": "markdown",
   "metadata": {},
   "source": [
    "## Modelo\n",
    "\n",
    "$$\\min_u \\int_0^T CI(t) + (u(t)I(t))^2 dt $$\n",
    "\n",
    "$S'(t) = A - \\beta\\frac{SI}{S + I + R} - dS,$\n",
    "\n",
    "$I'(t) = \\beta\\frac{SI}{S + I + R} - (d + \\alpha_1 + \\gamma + u)I$\n",
    "\n",
    "$Q'(t) = uI - (\\alpha_2 + d + \\epsilon)Q$\n",
    "\n",
    "$R'(t) = \\gamma I + \\epsilon Q - dR$\n",
    "\n",
    "$S(0) = S_0 \\geq 0, I(0) = I_0 \\geq 0, Q(0) = 0, R(0) = R_0 \\geq 0$\n",
    "\n",
    "$0 \\leq u(t) \\leq 1$\n"
   ]
  },
  {
   "cell_type": "markdown",
   "metadata": {},
   "source": [
    "### Importando bibliotecas"
   ]
  },
  {
   "cell_type": "code",
   "execution_count": 1,
   "metadata": {},
   "outputs": [],
   "source": [
    "import numpy as np\n",
    "import matplotlib.pyplot as plt\n",
    "from scipy.integrate import solve_ivp\n",
    "from scipy.optimize import root_scalar\n",
    "import sympy as sp\n",
    "\n",
    "import sys  \n",
    "sys.path.insert(0, '../pyscripts/')\n",
    "\n",
    "from optimal_control_class import OptimalControl"
   ]
  },
  {
   "cell_type": "markdown",
   "metadata": {},
   "source": [
    "## Condições Necessárias"
   ]
  },
  {
   "cell_type": "markdown",
   "metadata": {},
   "source": [
    "### Hamiltoniano"
   ]
  },
  {
   "cell_type": "code",
   "execution_count": 11,
   "metadata": {},
   "outputs": [
    {
     "data": {
      "text/latex": [
       "$\\displaystyle - C I - I^{2} u^{2} + \\lambda_{1} \\left(A - \\frac{I S \\beta}{I + R + S} - S d\\right) + \\lambda_{2} \\left(\\frac{I S \\beta}{I + R + S} - I \\left(\\alpha_{1} + d + \\gamma + u\\right)\\right) + \\lambda_{3} \\left(I u - Q \\left(\\alpha_{2} + d + \\epsilon\\right)\\right) + \\lambda_{4} \\left(I \\gamma + Q \\epsilon - R d\\right)$"
      ],
      "text/plain": [
       "-C*I - I**2*u**2 + lambda_1*(A - I*S*beta/(I + R + S) - S*d) + lambda_2*(I*S*beta/(I + R + S) - I*(alpha_1 + d + gamma + u)) + lambda_3*(I*u - Q*(alpha_2 + d + epsilon)) + lambda_4*(I*gamma + Q*epsilon - R*d)"
      ]
     },
     "execution_count": 11,
     "metadata": {},
     "output_type": "execute_result"
    }
   ],
   "source": [
    "S,I,Q,R,u,l1,l2,l3,l4, u = sp.symbols('S I Q R u lambda_1 lambda_2 lambda_3 lambda_4 u')\n",
    "C,A,b,d,a1,g,a2,e = sp.symbols('C A beta d alpha_1 gamma alpha_2 epsilon')\n",
    "\n",
    "H = -C*I - (I*u)**2 + l1*(A - b*(S*I/(S + I + R)) - d*S) + \\\n",
    "                 l2*(b*(S*I/(S + I + R)) - (d + a1 + g + u)*I) + \\\n",
    "                 l3*(u*I - (a2 + d + e)*Q) +  \\\n",
    "                 l4*(g*I + e*Q - d*R)\n",
    "H"
   ]
  },
  {
   "cell_type": "markdown",
   "metadata": {},
   "source": [
    "### Condições de Estado"
   ]
  },
  {
   "cell_type": "code",
   "execution_count": 12,
   "metadata": {},
   "outputs": [
    {
     "name": "stdout",
     "output_type": "stream",
     "text": [
      "A - I*S*beta/(I + R + S) - S*d\n",
      "\n",
      "I*S*beta/(I + R + S) - I*(alpha_1 + d + gamma + u)\n",
      "\n",
      "I*u - Q*(alpha_2 + d + epsilon)\n",
      "\n",
      "I*gamma + Q*epsilon - R*d\n"
     ]
    }
   ],
   "source": [
    "print(sp.diff(H,l1))\n",
    "print()\n",
    "print(sp.diff(H,l2))\n",
    "print()\n",
    "print(sp.diff(H,l3))\n",
    "print()\n",
    "print(sp.diff(H,l4))"
   ]
  },
  {
   "cell_type": "markdown",
   "metadata": {},
   "source": [
    "### Equações Adjuntas"
   ]
  },
  {
   "cell_type": "code",
   "execution_count": 13,
   "metadata": {},
   "outputs": [
    {
     "name": "stdout",
     "output_type": "stream",
     "text": [
      "-lambda_1*(I*S*beta/(I + R + S)**2 - I*beta/(I + R + S) - d) - lambda_2*(-I*S*beta/(I + R + S)**2 + I*beta/(I + R + S))\n",
      "\n",
      "C + 2*I*u**2 - gamma*lambda_4 - lambda_1*(I*S*beta/(I + R + S)**2 - S*beta/(I + R + S)) - lambda_2*(-I*S*beta/(I + R + S)**2 + S*beta/(I + R + S) - alpha_1 - d - gamma - u) - lambda_3*u\n",
      "\n",
      "-epsilon*lambda_4 - lambda_3*(-alpha_2 - d - epsilon)\n",
      "\n",
      "-I*S*beta*lambda_1/(I + R + S)**2 + I*S*beta*lambda_2/(I + R + S)**2 + d*lambda_4\n",
      "\n"
     ]
    }
   ],
   "source": [
    "dl1 = (-1)*sp.diff(H,S)\n",
    "dl2 = (-1)*sp.diff(H,I)\n",
    "dl3 = (-1)*sp.diff(H,Q)\n",
    "dl4 = (-1)*sp.diff(H,R)\n",
    "print(dl1)\n",
    "print()\n",
    "print(dl2)\n",
    "print()\n",
    "print(dl3)\n",
    "print()\n",
    "print(dl4)\n",
    "print()"
   ]
  },
  {
   "cell_type": "markdown",
   "metadata": {},
   "source": [
    "### Condições de Transversalidade\n",
    "\n",
    "$\\lambda_1(T) = \\lambda_2(T) = \\lambda3(T) = \\lambda_4(T) = 0$  \n",
    "\n",
    "### Otimalidade "
   ]
  },
  {
   "cell_type": "code",
   "execution_count": 14,
   "metadata": {},
   "outputs": [
    {
     "data": {
      "text/latex": [
       "$\\displaystyle - 2 I^{2} u - I \\lambda_{2} + I \\lambda_{3}$"
      ],
      "text/plain": [
       "-2*I**2*u - I*lambda_2 + I*lambda_3"
      ]
     },
     "execution_count": 14,
     "metadata": {},
     "output_type": "execute_result"
    }
   ],
   "source": [
    "psi = H.diff(u)\n",
    "psi"
   ]
  },
  {
   "cell_type": "markdown",
   "metadata": {},
   "source": [
    "$$ \\frac{\\partial H}{\\partial u} > 0 \\implies u^* = 1 \\implies \\frac{\\lambda_3 - \\lambda_2}{2I} > 1$$\n",
    "\n",
    "$$ \\frac{\\partial H}{\\partial u} < 0 \\implies u^* = 0 \\implies \\frac{\\lambda_3 - \\lambda_2}{2I} < 0 $$\n",
    "\n",
    "$$ \\frac{\\partial H}{\\partial u} = 0 \\implies 0 \\leq u^* \\leq 1 \\implies u^* = \\frac{\\lambda_3 - \\lambda_2}{2I} \\implies 0 \\leq \\frac{\\lambda_3 - \\lambda_2}{2I} \\leq 1 $$\n",
    "\n",
    "$$u = \\max(0, \\min(1, \\frac{\\lambda_3 - \\lambda_2}{2I}))$$"
   ]
  },
  {
   "cell_type": "code",
   "execution_count": 15,
   "metadata": {},
   "outputs": [],
   "source": [
    "parameters = {'C': None, 'A': None, 'beta': None, 'alpha1': None, \n",
    "              'alpha2': None, 'gamma': None, 'epsilon': None, 'd': None}\n",
    "\n",
    "diff_state = lambda t, x, u, par: np.array([\n",
    "    par['A'] - x[1]*x[0]*par['beta']/(x[0] + x[3] + x[0]) - par['d']*x[0],\n",
    "    x[1]*x[0]*par['beta']/(x[1] + x[3] + x[0]) - x[1]*(par['alpha'] + par['d'] + par['gamma'] + u[0]), \n",
    "    x[1]*u[0] - x[2]*(par['alpha2'] + par['d'] + par['epsilon']),\n",
    "    x[1]*par['gamma'] + x[2]*par['epsilon'] - x[3]*par['d']\n",
    "])\n",
    "\n",
    "diff_lambda = lambda t, x, u, l, par: np.array([\n",
    "    -l[0]*(x[1]*x[0]*par['beta']/(x[0] + x[1] + x[3])**2 - x[1]*par['beta']/(x[0] + x[1] + x[3]) - par['d']) - \\\n",
    "        l[1]*(-x[1]*x[0]*par['beta']/(x[0] + x[1] + x[3])**2 + x[1]*par['beta']/(x[0] + x[1] + x[3])),\n",
    "    par['C'] - par['gamma']*l[3] - l[0]*(x[1]*x[0]*par['beta']/(x[0] + x[1] + x[3])**2 - x[0]*par['beta']/(x[0] + x[1] + x[3])) - \\\n",
    "        l[1]*(-x[1]*x[0]*par['beta']/(x[0] + x[1] + x[3])**2 + x[0]*par['beta']/(x[0] + x[1] + x[3]) - \\\n",
    "        par['alpha1'] - par['d'] - par['gamma'] - u[0]) - l[2]*u[0] + 2*x[1]*u[0]**2, \n",
    "    -par['epsilon']*l[3] - l[2]*(-par['alpha2'] - par['d'] - par['epsilon']), \n",
    "    -x[1]*x[0]*par['beta']*l[0]/(x[0] + x[1] + x[3])**2 + x[0]*x[1]*par['beta']*l[1]/(x[0] + x[1] + x[3])**2 + par['d']*l[3]\n",
    "])\n",
    "\n",
    "update_u = lambda t, x, l, par: np.maximum(0, np.minimum(1, 0.5*(l[2] - l[1])/x[1]))"
   ]
  },
  {
   "cell_type": "markdown",
   "metadata": {},
   "source": [
    "## Aplicando a classe ao exemplo \n",
    "\n",
    "Vamos começar as experimentações"
   ]
  },
  {
   "cell_type": "code",
   "execution_count": 16,
   "metadata": {},
   "outputs": [],
   "source": [
    "problem = OptimalControl(diff_state, diff_lambda, update_u, \n",
    "                         n_controls = 1, n_states = 3)"
   ]
  },
  {
   "cell_type": "code",
   "execution_count": null,
   "metadata": {},
   "outputs": [],
   "source": [
    "x0 = np.array([1000, 1, 0, 0])\n",
    "T = 20\n",
    "parameters['C'] \n",
    "parameters['A']\n",
    "parameters['beta']\n",
    "parameters['alpha1']\n",
    "parameters['alpha2']\n",
    "parameters['gamma']\n",
    "parameters['epsilon']\n",
    "parameters['d'] "
   ]
  }
 ],
 "metadata": {
  "kernelspec": {
   "display_name": "Python 3.7.3 64-bit ('base')",
   "language": "python",
   "name": "python37364bitbase6782713bed674ed7a26121bd52530782"
  },
  "language_info": {
   "codemirror_mode": {
    "name": "ipython",
    "version": 3
   },
   "file_extension": ".py",
   "mimetype": "text/x-python",
   "name": "python",
   "nbconvert_exporter": "python",
   "pygments_lexer": "ipython3",
   "version": "3.7.3"
  }
 },
 "nbformat": 4,
 "nbformat_minor": 4
}
